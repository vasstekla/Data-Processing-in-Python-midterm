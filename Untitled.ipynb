{
 "cells": [
  {
   "cell_type": "markdown",
   "metadata": {},
   "source": [
    "## Tekla Vass - Midterm\n"
   ]
  },
  {
   "cell_type": "code",
   "execution_count": 241,
   "metadata": {},
   "outputs": [],
   "source": [
    "import requests\n",
    "from bs4 import BeautifulSoup\n",
    "import re\n",
    "import pandas as pd"
   ]
  },
  {
   "cell_type": "code",
   "execution_count": 284,
   "metadata": {},
   "outputs": [],
   "source": [
    "class Downloader:\n",
    "    def __init__(self,link):\n",
    "        self.link = link\n",
    "        r = requests.get(link)\n",
    "        r.encoding='UTF-8'\n",
    "        self.soup = BeautifulSoup(r.text,'html.parser')\n",
    "    def get_characters(self):\n",
    "        lis = self.soup.find('span',{'id':'Unseen_University_and_the_Wizards'}).parent.previous.previous.parent.parent.parent.find_all('li')\n",
    "        self.character_link_list = ['http://wiki.lspace.org' + l.find('a')['href'] for l in lis]\n",
    "        self.data_frame = pd.DataFrame(columns=['character_name','book'])\n",
    "        for character_link in self.character_link_list:\n",
    "            character = Character(character_link)\n",
    "            for book in character.books:\n",
    "                self.data_frame = self.data_frame.append({\n",
    "                    'character_name': character.name,\n",
    "                    'book': book.text}, ignore_index = True)\n",
    "        return self.data_frame"
   ]
  },
  {
   "cell_type": "code",
   "execution_count": 285,
   "metadata": {},
   "outputs": [],
   "source": [
    "class Character:\n",
    "    def __init__(self,character_link):\n",
    "        self.link = character_link\n",
    "        r = requests.get(self.link)\n",
    "        r.encoding='UTF-8'\n",
    "        self.soup = BeautifulSoup(r.text,'html.parser')\n",
    "        self.name = self.soup.find('h1').text\n",
    "        self.books = self.soup.find('table', {\"class\": 'toccolours'}).find_all(\"a\", {\"title\" : re.compile(r\"^Book:*\")})"
   ]
  },
  {
   "cell_type": "code",
   "execution_count": 286,
   "metadata": {},
   "outputs": [
    {
     "name": "stdout",
     "output_type": "stream",
     "text": [
      "    character_name                book\n",
      "0      Evadne Cake          Reaper Man\n",
      "1      Evadne Cake         Men at Arms\n",
      "2      Evadne Cake               Jingo\n",
      "3      Evadne Cake        Going Postal\n",
      "4      Evadne Cake        Making Money\n",
      "..             ...                 ...\n",
      "194      Willikins               Jingo\n",
      "195      Willikins  The Fifth Elephant\n",
      "196      Willikins         Night Watch\n",
      "197      Willikins               Thud!\n",
      "198      Willikins               Snuff\n",
      "\n",
      "[199 rows x 2 columns]\n"
     ]
    }
   ],
   "source": [
    "downloader = Downloader('http://wiki.lspace.org/mediawiki/List_of_Pratchett_characters#Ankh-Morpork_and_The_Watch')\n",
    "data = downloader.get_characters()\n",
    "print(data)"
   ]
  },
  {
   "cell_type": "code",
   "execution_count": 298,
   "metadata": {},
   "outputs": [
    {
     "name": "stdout",
     "output_type": "stream",
     "text": [
      "14\n",
      "1\n"
     ]
    }
   ],
   "source": [
    "print(len(data[data[\"book\"] == \"Men at Arms\"]))\n",
    "print(len(pd.merge(data[data[\"character_name\"] == \"Evadne Cake\"], data[data[\"character_name\"] == \"Visit-The-Infidel-With-Explanatory-Pamphlets\"], how='inner', on=['book']))\n"
   ]
  }
 ],
 "metadata": {
  "kernelspec": {
   "display_name": "Python 3",
   "language": "python",
   "name": "python3"
  },
  "language_info": {
   "codemirror_mode": {
    "name": "ipython",
    "version": 3
   },
   "file_extension": ".py",
   "mimetype": "text/x-python",
   "name": "python",
   "nbconvert_exporter": "python",
   "pygments_lexer": "ipython3",
   "version": "3.8.2"
  }
 },
 "nbformat": 4,
 "nbformat_minor": 4
}
